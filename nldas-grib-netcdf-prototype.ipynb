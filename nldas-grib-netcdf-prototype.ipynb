{
 "cells": [
  {
   "cell_type": "markdown",
   "metadata": {},
   "source": [
    "# This is my prototyping platform for the code to extract a timeseries of data from the NLDAS GRB files and store them in NetCDF format.\n",
    "## There should be a .py script with a similar name that runs the finished code on HPC."
   ]
  },
  {
   "cell_type": "code",
   "execution_count": 1,
   "metadata": {},
   "outputs": [],
   "source": [
    "import datetime as dt\n",
    "import numpy as np\n",
    "import netCDF4 as nc # http://unidata.github.io/netcdf4-python/\n",
    "import scipy as sp\n",
    "import pygrib as pg\n",
    "import numpy.ma as ma\n",
    "import array as arr "
   ]
  },
  {
   "cell_type": "code",
   "execution_count": 2,
   "metadata": {},
   "outputs": [],
   "source": [
    "# Write the NetCDF forcing data file.\n",
    "grib_dir = '/home/NearingLab/data/nldas/grib/NLDAS2.FORCING/'\n",
    "write_dir = '/home/NearingLab/data/nldas/netcdf-single-cells/'"
   ]
  },
  {
   "cell_type": "code",
   "execution_count": 5,
   "metadata": {},
   "outputs": [
    {
     "data": {
      "text/plain": [
       "'/home/NearingLab/data/nldas/grib/NLDAS2.FORCING/2019/NLDAS_FORA0125_H.A20190101.0000.002.grb'"
      ]
     },
     "execution_count": 5,
     "metadata": {},
     "output_type": "execute_result"
    }
   ],
   "source": [
    "fname"
   ]
  },
  {
   "cell_type": "code",
   "execution_count": 6,
   "metadata": {},
   "outputs": [],
   "source": [
    "# Open an example file\n",
    "fname = grib_dir + '2019/001/' + 'NLDAS_FORA0125_H.A20190101.0000.002.grb'\n",
    "grbForce = pg.open(fname)"
   ]
  },
  {
   "cell_type": "code",
   "execution_count": 15,
   "metadata": {},
   "outputs": [
    {
     "name": "stdout",
     "output_type": "stream",
     "text": [
      "Will be calculating hours starting from: \n",
      "1979-01-01 13:00:00\n"
     ]
    }
   ],
   "source": [
    "# Set start and end data information for the GRIB/NetCDF forcing data.\n",
    "yearStart  = 1979\n",
    "monthStart = 1 \n",
    "dayStart   = 1 \n",
    "hourStart  = 13\n",
    "startDateTime = dt.datetime(yearStart, monthStart, dayStart, hour = hourStart)\n",
    "print(\"Will be calculating hours starting from: \")\n",
    "print(startDateTime)\n",
    "dayOfYearStart = dt.datetime.date(startDateTime).timetuple().tm_yday\n",
    "yearEnd  = 1980\n",
    "monthEnd = 10\n",
    "dayEnd   = 1 \n",
    "hourEnd  = 12\n",
    "endDateTime = dt.datetime(yearEnd, monthEnd, dayEnd, hour = hourEnd)\n",
    "dayOfYearEnd = dt.datetime.date(endDateTime).timetuple().tm_yday"
   ]
  },
  {
   "cell_type": "code",
   "execution_count": 16,
   "metadata": {},
   "outputs": [],
   "source": [
    "# Initializing the directory, but will change each day and year.\n",
    "mainDirectory = '/home/NearingLab/data/nldas/grib/NLDAS2.FORCING/'\n",
    "startDirectory = mainDirectory + str(yearStart)  + \"/\" \\\n",
    "    + str(\"{:03d}\".format(dayOfYearStart))  + \"/\"\n",
    "endDirectory = mainDirectory + str(yearEnd)  + \"/\" \\\n",
    "    + str(\"{:03d}\".format(dayOfYearEnd))  + \"/\"\n",
    "filePrefix = 'NLDAS_FORA0125_H.A'\n",
    "fileSufix = '.002.grb'"
   ]
  },
  {
   "cell_type": "code",
   "execution_count": 19,
   "metadata": {},
   "outputs": [],
   "source": [
    "# specify the data and time to fine the correct file in this name format\n",
    "startFileDateTime = dateForFile(yearStart, monthStart, dayStart, hourStart)\n",
    "endFileDateTime = dateForFile(yearEnd, monthEnd, dayEnd, hourEnd)\n",
    "#Add prefix and sufix to the date to create the whole file name.\n",
    "startFile = getFileName(startFileDateTime, startDirectory, \"A\")\n",
    "endFile = getFileName(endFileDateTime, endDirectory, \"A\")"
   ]
  },
  {
   "cell_type": "code",
   "execution_count": 20,
   "metadata": {},
   "outputs": [],
   "source": [
    "# Need to get the GRIB time for the first and last files\n",
    "#Start the loop at the first date in the files.\n",
    "year1, month1, day1, hour1 = dateFromGRIB(startFile)\n",
    "t = dt.datetime(year1, month1, day1, hour=hour1)\n",
    "#Then have the loop run until the last file date.\n",
    "year2, month2, day2, hour2 = dateFromGRIB(endFile)\n",
    "endTime = dt.datetime(year2, month2, day2, hour=hour2)\n",
    "# Set timestep to move forward, to run through the files\n",
    "deltime = dt.timedelta(hours=1)\n",
    "# Estimate the number of hours in the record\n",
    "H = endTime - t # (t = startDateTime)\n",
    "# Convert the time difference to hours) \n",
    "H = int(H.total_seconds()/60/60) + 1"
   ]
  },
  {
   "cell_type": "code",
   "execution_count": 37,
   "metadata": {},
   "outputs": [],
   "source": [
    "# Make a list of all the times to loop through\n",
    "dates = [startDateTime + deltime*h for h in range(H)]"
   ]
  },
  {
   "cell_type": "code",
   "execution_count": null,
   "metadata": {},
   "outputs": [],
   "source": [
    "# Main loop through the GRIB files by one hour intervals. open, extract, write, save\n",
    "# Main loop through the NetCDF files by one hour intervals. \n",
    "# iH: Index to use for filling forcing data list.\n",
    "for iH, t in enumerate(dates):\n",
    "    print(\"----------------------------------------------------\")\n",
    "    print(\"Current data & time in the main loop is (t): \")\n",
    "    print(t)\n",
    "\n",
    "    # Now loop across the grid in the X direction\n",
    "    for x in LIST_OF_LONGITUDES:\n",
    "    \n",
    "        # Now loop across the grid in the Y direction\n",
    "        for y in LIST_OF_LATITUDES:\n",
    "\n",
    "            # Set dictionary with lists of empty forcings\n",
    "            F = setForcingLists(H)\n",
    "            \n",
    "            # Initialize NETCDF forcing file\n",
    "            forcingDataName = directory + 'forcing.nc'\n",
    "            forcing = nc.Dataset(forcingDataName, 'w', format='NETCDF4_CLASSIC')\n",
    "            forcing.title = \"11098000 SUMMA model, CAMELS catchments\"\n",
    "            forcing.description = 'SUMMA forcing data for 11098000'\n",
    "\n",
    "            hoursSinceStartDate = t - startDateTime\n",
    "            hoursSinceStartDate = int(hoursSinceStartDate.total_seconds()/60/60)\n",
    "            time[iH] = float(hoursSinceStartDate)\n",
    "            print(\"Hours since the start date: %d\" %hoursSinceStartDate)\n",
    "\n",
    "            # The files have both A and B versions.\n",
    "            AB = \"A\"\n",
    "            # Set the strings for the file name\n",
    "            iYear, iMonth, iDay, iHour = getValuesFromDateTime(t)\n",
    "            # Get the datetime stuff in strings to be used in the NetCDF file call.\n",
    "            dateTime4File = dateForFile(iYear, iMonth, iDay, iHour)\n",
    "            # Need to change the directory to reflect the loop data\n",
    "            directory = changeDirectory(t)\n",
    "            # Put the file name together, this includes the full path\n",
    "            fileName = getFileName(dateTime4File, directory, AB)\n",
    "            # Open the file for this particular data & time.\n",
    "            try:\n",
    "                grbForce = pg.open(fileName)\n",
    "                # if the file exists, then advance the list index by one.\n",
    "                iH = iH + 1\n",
    "                # Store configuration file values\n",
    "            except:\n",
    "                # skip the file\n",
    "                print('File not found:')\n",
    "                print(fileName)\n",
    "                continue\n",
    "            # Find the index of the cell closest to the CAMELS latlon\n",
    "            lats = grbForce[1].latitudes\n",
    "            lons = grbForce[1].longitudes\n",
    "            np.set_printoptions(threshold=np.nan)\n",
    "            #Find the nearest lat/lon indeces to the point location\n",
    "            #The problem with these functions is that there are multiple of each\n",
    "            lat_idx = geo_idx(latCatchment, lats) #Seperate index for lat and lon\n",
    "            lon_idx = geo_idx(lonCatchment, lons) #Seperate index for lat and lon\n",
    "            #Then find the actual lat/lon values, from the indices\n",
    "            lat_val = lats[lat_idx]\n",
    "            lon_val = lons[lon_idx]\n",
    "            print(\"Using latitude and longitude values: %f & %f\" %(lat_val, lon_val))\n",
    "            #But actually the original indices are not quite correct...\n",
    "            #So we need to narrow down the indices to be exact\n",
    "            [lat_idx, lon_idx] = geo_idx_1(lat_val, lon_val, lats, lons)\n",
    "            print(\"The array lat/lon indices are: %d & %d\" %(lat_idx, lon_idx))\n",
    "            \n",
    "            # Loop through the GRIB messages and save them\n",
    "            # when their indicator ID match the variables we want\n",
    "            print(\"List index is equall to: %d\" %iH)\n",
    "            for grb in grbForce:\n",
    "                if grb['indicatorOfParameter'] == 11:\n",
    "                    airtemp[iH] = grb.values[lat_idx, lon_idx]\n",
    "                    print(\"TMP, 2-m above ground Temperature [K]: %f\" %airtemp[iH])\n",
    "                if grb['indicatorOfParameter'] == 51:\n",
    "                    spechum[iH] = grb.values[lat_idx, lon_idx]\n",
    "                    print(\"SPFH, 2-m above ground Specific humidity [kg/kg]: %f\" %spechum[iH])\n",
    "                if grb['indicatorOfParameter'] == 1:\n",
    "                    airpres[iH] = grb.values[lat_idx, lon_idx]\n",
    "                    print(\"PRES, Surface pressure [Pa]: %f\" %airpres[iH])\n",
    "                if grb['indicatorOfParameter'] == 33:\n",
    "                    forcingUGRD = grb.values[lat_idx, lon_idx]\n",
    "                    print(\"UGRD, 10-m above ground Zonal wind speed [m/s]: %f\" %forcingUGRD)\n",
    "                if grb['indicatorOfParameter'] == 34:\n",
    "                    windspd[iH] = grb.values[lat_idx, lon_idx]\n",
    "                    print(\"VGRD, 10-m above ground Meridonal wind speed [m/s]: %f\" %windspd[iH])\n",
    "                if grb['indicatorOfParameter'] == 205:\n",
    "                    LWRadAtm[iH] = grb.values[lat_idx, lon_idx]\n",
    "                    print(\"DLWRF,  Longwave radiation flux downwards (surface) [W/m^2]: %f\" %LWRadAtm[iH])\n",
    "                if grb['indicatorOfParameter'] == 153:\n",
    "                    forcingCONVfrac = grb.values[lat_idx, lon_idx]\n",
    "                    print(\"CONVfrac, Fraction of total precipitation that is convective: %f\" %forcingCONVfrac)\n",
    "                if grb['indicatorOfParameter'] == 157:\n",
    "                    forcingCAPE = grb.values[lat_idx, lon_idx]\n",
    "                    print(\"CAPE, 180-mb above ground Convective Available Potential Energy: %f\" %forcingCAPE)\n",
    "                if grb['indicatorOfParameter'] == 228:\n",
    "                    forcingPEVAP = grb.values[lat_idx, lon_idx]\n",
    "                    print(\"PEVAP, Potential evaporation hourly total: %f\" %forcingPEVAP)\n",
    "                # Precipitation is an hourly total. mm/s = (mm/hr) / (1hr/60min) / (1min/60sec) \n",
    "                if grb['indicatorOfParameter'] == 61:\n",
    "                    pptrate[iH] = grb.values[lat_idx, lon_idx] / 60 / 60\n",
    "                    print(\"APCP, Precipitation hourly total [kg/m^2/hr]: %f\" %pptrate[iH])\n",
    "                if grb['indicatorOfParameter'] == 204:\n",
    "                    SWRadAtm[iH] = grb.values[lat_idx, lon_idx]\n",
    "                    print(\"DSWRF, Shortwave radiation flux downwards (surface) [W/m^2]: %f\" %SWRadAtm[iH])\n",
    "            grbForce.close()\n",
    "\n",
    "            forcing = fillForcing(forcing, H, hruID, lat, lon, dt, time, \n",
    "                SWRadAtm, LWRadAtm, airpres, airtemp, pptrate, spechum, windspd)\n"
   ]
  },
  {
   "cell_type": "markdown",
   "metadata": {},
   "source": [
    "# FUNCTIONS TO CALL IN THE MAIN LOOP"
   ]
  },
  {
   "cell_type": "code",
   "execution_count": 7,
   "metadata": {},
   "outputs": [],
   "source": [
    "# Search for nearest decimal degree in an array of decimal degrees and return the index.\n",
    "# np.argmin returns the indices of minimum value along an axis.\n",
    "# so subtract dd from all values in dd_array, take absolute value and find index of minimum\n",
    "def geo_idx(dd, dd_array):\n",
    "    geo_idx = (np.abs(dd_array - dd)).argmin()\n",
    "    return geo_idx"
   ]
  },
  {
   "cell_type": "code",
   "execution_count": 8,
   "metadata": {},
   "outputs": [],
   "source": [
    "# Search and return the single index in the GRIB file with the lat/long found from geo_idx\n",
    "def geo_idx_1(lat_val, lon_val, lats, lons):\n",
    "    ilat = 0\n",
    "    ilon = 0\n",
    "    print(\"Looking for lat/lon index values\")\n",
    "    #Loop through the one dimensional latitude list,\n",
    "    #Then we'll calculate where we should be in a two dimensional array\n",
    "    for i in range(0, len(lats)):\n",
    "        #At some point we should hit the SINGLE location in the 1D list...\n",
    "        #Where the latitude and longitude values match our grid with our point of interest\n",
    "        if lats[i] == lat_val and lons[i] == lon_val:\n",
    "            #When this happens return those values, because we found our treasure\n",
    "            return [ilat, ilon]\n",
    "        #If for some reason we never find the treasure, let the user know.\n",
    "        #And then end the loop before we get an error for the (i+1) index call\n",
    "        if i == len(lats):\n",
    "            print(\"ERROR: CAN NOT FIND THE INDEXIES FOR LATITUDE AND LONGITUDE!!!!!!!!\")\n",
    "            break\n",
    "        #If latitudes reach the end of their cycle, then restart\n",
    "        #The latitudes stay constant through the longitudes, then...\n",
    "        #When the longitudes reach the minimum, the latitude moves down one.\n",
    "        if lats[i] != lats[i + 1]:\n",
    "            #Move on, because we've cycled through the longitudes...\n",
    "            # associated with this latitude\n",
    "            ilat = ilat + 1\n",
    "            #The longitudes reset, so the index goes back to zero for the 2D array.\n",
    "            ilon = 0\n",
    "        else:\n",
    "            #The longitudes keep moving while the latitude stays constant.\n",
    "            ilon = ilon + 1\n"
   ]
  },
  {
   "cell_type": "code",
   "execution_count": 9,
   "metadata": {},
   "outputs": [],
   "source": [
    "def dateForFile(year, month, day, hour):\n",
    "    # Set the strings for the file name\n",
    "    yearStr = str(\"{:02d}\".format(year))\n",
    "    monthStr = str(\"{:02d}\".format(month))\n",
    "    dayStr = str(\"{:02d}\".format(day))\n",
    "    hourStr = str(\"{:02d}\".format(hour))\n",
    "    dateTime = yearStr + monthStr + dayStr + '.' +  hourStr + '00'\n",
    "    return dateTime"
   ]
  },
  {
   "cell_type": "code",
   "execution_count": 10,
   "metadata": {},
   "outputs": [],
   "source": [
    "def changeDirectory(t):\n",
    "    year = dt.datetime.date(t).year\n",
    "    day = dt.datetime.date(t).timetuple().tm_yday\n",
    "    directory = grib_dir + str(year)  + \"/\" + str(\"{:03d}\".format(day))  + \"/\"\n",
    "    return directory"
   ]
  },
  {
   "cell_type": "code",
   "execution_count": 11,
   "metadata": {},
   "outputs": [],
   "source": [
    "def getFileName(dateTime4File, directory, AB):\n",
    "    if AB == \"A\":\n",
    "        filePrefix = 'NLDAS_FORA0125_H.A'\n",
    "    elif AB == \"B\":\n",
    "        filePrefix = 'NLDAS_FORB0125_H.A'\n",
    "    fileSufix = '.002.grb'\n",
    "    fileName = directory + filePrefix + dateTime4File + fileSufix\n",
    "    return fileName"
   ]
  },
  {
   "cell_type": "code",
   "execution_count": 12,
   "metadata": {},
   "outputs": [],
   "source": [
    "def dateFromNetCDF(fileName):\n",
    "    file_in = nc.Dataset(fileName,\"r\",format=\"NETCDF4\")\n",
    "    t_unit = file_in.variables[\"time\"].units # get unit  \"days since 1950-01-01T00:00:00Z\"\n",
    "    print(\"NetCDF file units for time are:\")\n",
    "    print(t_unit)\n",
    "    year = int(t_unit[12:15+1])\n",
    "    month = int(t_unit[17:18+1])\n",
    "    day = int(t_unit[20:21+1])\n",
    "    hour = int(t_unit[23:24+1])\n",
    "    return t_unit, year, month, day, hour;"
   ]
  },
  {
   "cell_type": "code",
   "execution_count": 13,
   "metadata": {},
   "outputs": [],
   "source": [
    "def dateFromGRIB(fileName):\n",
    "    file_in = pg.open(fileName)\n",
    "    gribData = file_in.select()[0]\n",
    "    year = int(gribData.year)\n",
    "    month = int(gribData.month)\n",
    "    day = int(gribData.day)\n",
    "    hour = int(gribData.hour)\n",
    "\n",
    "    return year, month, day, hour;"
   ]
  },
  {
   "cell_type": "code",
   "execution_count": 14,
   "metadata": {},
   "outputs": [],
   "source": [
    "def getValuesFromDateTime(t):\n",
    "    y = dt.datetime.date(t).year\n",
    "    m = dt.datetime.date(t).month\n",
    "    d = dt.datetime.date(t).day\n",
    "    h = dt.datetime.time(t).hour\n",
    "    return y, m, d, h"
   ]
  },
  {
   "cell_type": "code",
   "execution_count": 24,
   "metadata": {},
   "outputs": [],
   "source": [
    "def fillForcing(forcing, H, hruID, lat, lon, dt, time, \\\n",
    "                SWRadAtm, LWRadAtm, airpres, airtemp, pptrate, spechum, windspd):\n",
    "    forcing.createDimension('hru', 1)\n",
    "    forcing.createDimension('time', H)\n",
    "    ### createVareables in new data set\n",
    "    forcing.createVariable('hruId', np.int32, ('hru',))\n",
    "    forcing.variables['hruId'].units = 'id number'\n",
    "    forcing.variables['hruId'].long_name = 'The Hydrologic Response Unit identification number'\n",
    "    forcing.createVariable('latitude', np.float32, ('hru',))\n",
    "    forcing.variables['latitude'].units = 'decimal degree'\n",
    "    forcing.variables['latitude'].long_name = 'Latitude location of HRU, North-South decimal degrees'\n",
    "    forcing.createVariable('longitude', np.float32, ('hru',))\n",
    "    forcing.variables['longitude'].units = 'decimal degree'\n",
    "    forcing.variables['longitude'].long_name = 'Longitude location of HRU, East-West decimal degrees'\n",
    "    forcing.createVariable('data_step', np.int32)\n",
    "    forcing.variables['data_step'].units = 'seconds'\n",
    "    forcing.variables['data_step'].long_name = 'data step length in seconds'\n",
    "    forcing.createVariable('time', np.float64, ('time',))\n",
    "    forcing.variables['time'].units = 'hours since 1979-01-01 00:00:00'\n",
    "    forcing.variables['time'].long_name = 'time of forcing data'\n",
    "    forcing.createVariable('LWRadAtm', np.float32, ('time', 'hru'))\n",
    "    forcing.variables['LWRadAtm'].units = 'W m-2'\n",
    "    forcing.variables['LWRadAtm'].long_name = 'downward longwave radiation at the upper boundary'\n",
    "    forcing.variables['LWRadAtm'].v_type     = 'scalarv'\n",
    "    forcing.createVariable('SWRadAtm', np.float32, ('time', 'hru'))\n",
    "    forcing.variables['SWRadAtm'].units = 'W m-2'\n",
    "    forcing.variables['SWRadAtm'].long_name = 'downward shortwave radiation at the upper boundary'\n",
    "    forcing.variables['SWRadAtm'].v_type     = 'scalarv'\n",
    "    forcing.createVariable('airpres', np.float32, ('time', 'hru'))\n",
    "    forcing.variables['airpres'].units = 'Pa'\n",
    "    forcing.variables['airpres'].long_name = 'air pressure at the measurement height'\n",
    "    forcing.variables['airpres'].v_type     = 'scalarv'\n",
    "    forcing.createVariable('airtemp', np.float32, ('time', 'hru'))\n",
    "    forcing.variables['airtemp'].units = 'K'\n",
    "    forcing.variables['airtemp'].long_name = 'air temperature at the measurement height'\n",
    "    forcing.variables['airtemp'].v_type     = 'scalarv'\n",
    "    forcing.createVariable('pptrate', np.float32, ('time', 'hru'))\n",
    "    forcing.variables['pptrate'].units = 'kg m-2 s-1'\n",
    "    forcing.variables['pptrate'].long_name = 'Precipitation rate'\n",
    "    forcing.variables['pptrate'].v_type     = 'scalarv'\n",
    "    forcing.createVariable('spechum', np.float32, ('time', 'hru'))\n",
    "    forcing.variables['spechum'].units = 'g g-1'\n",
    "    forcing.variables['spechum'].long_name = 'specific humidity at the measurement height'\n",
    "    forcing.variables['spechum'].v_type     = 'scalarv'\n",
    "    forcing.createVariable('windspd', np.float32, ('time', 'hru'))\n",
    "    forcing.variables['windspd'].units = 'm s-1'\n",
    "    forcing.variables['windspd'].long_name = 'wind speed at the measurement height'\n",
    "    forcing.variables['windspd'].v_type     = 'scalarv'\n",
    "    # Fill new data set with diplicate values\n",
    "    forcing.variables['hruId'][:]          = hruID\n",
    "    forcing.variables['latitude'][:]       = lat\n",
    "    forcing.variables['longitude'][:]      = lon\n",
    "    forcing.variables['data_step'][:]      = dt\n",
    "    forcing.variables['time'][:]      = np.transpose(time)\n",
    "    forcing.variables['SWRadAtm'][:]  = np.transpose(SWRadAtm)\n",
    "    forcing.variables['LWRadAtm'][:]  = np.transpose(LWRadAtm)\n",
    "    forcing.variables['airpres'][:]   = np.transpose(airpres)\n",
    "    forcing.variables['airtemp'][:]   = np.transpose(airtemp)\n",
    "    forcing.variables['pptrate'][:]   = np.transpose(pptrate)\n",
    "    forcing.variables['spechum'][:]   = np.transpose(spechum)\n",
    "    forcing.variables['windspd'][:]   = np.transpose(windspd)\n",
    "\n",
    "    return forcing"
   ]
  },
  {
   "cell_type": "code",
   "execution_count": 25,
   "metadata": {},
   "outputs": [],
   "source": [
    "def setForcingLists(H):\n",
    "    # Set the vectors (Python List) with these hours for the forcing data\n",
    "    # Air pressure at the measurement height\n",
    "    airpres = [0 for x in range(H)] #[Pa]\n",
    "    # Air temperature at the measurement height\n",
    "    airtemp = [0 for x in range(H)]#[K]\n",
    "    # Downward longwave radiation at the upper boundary\n",
    "    LWRadAtm = [0 for x in range(H)] #[W m-2] \n",
    "    # Precipitation rate\n",
    "    pptrate = [0 for x in range(H)] #[kg m-2 s-1]\n",
    "    # Specific humifity at the measurement height\n",
    "    spechum = [0 for x in range(H)] #[g g-1]\n",
    "    # Downward shortwave radiation at the upper boundary\n",
    "    SWRadAtm = [0 for x in range(H)] #[W m-2]\n",
    "    # Observation time\n",
    "    time = [0 for x in range(H)] #[days since 1979-01-01 00:00:00]\n",
    "    #wind speed at the measurement height\n",
    "    windspd = [0 for x in range(H)] #[m s-1]\n",
    "\n",
    "    F = {'airpres':airpres, 'airtemp':airtemp, 'pptrate':pptrate, 'spechum':spechum, 'windspd':windspd}\n",
    "    \n",
    "    return F"
   ]
  }
 ],
 "metadata": {
  "kernelspec": {
   "display_name": "Python 3",
   "language": "python",
   "name": "python3"
  },
  "language_info": {
   "codemirror_mode": {
    "name": "ipython",
    "version": 3
   },
   "file_extension": ".py",
   "mimetype": "text/x-python",
   "name": "python",
   "nbconvert_exporter": "python",
   "pygments_lexer": "ipython3",
   "version": "3.7.6"
  }
 },
 "nbformat": 4,
 "nbformat_minor": 4
}
